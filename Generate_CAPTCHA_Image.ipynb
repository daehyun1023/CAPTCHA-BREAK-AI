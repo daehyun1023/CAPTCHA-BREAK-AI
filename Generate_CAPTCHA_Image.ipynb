{
 "cells": [
  {
   "cell_type": "code",
   "execution_count": 1,
   "metadata": {},
   "outputs": [
    {
     "name": "stdout",
     "output_type": "stream",
     "text": [
      "Collecting captcha\n",
      "  Downloading captcha-0.3-py3-none-any.whl (101 kB)\n",
      "Requirement already satisfied: Pillow in c:\\users\\duadp\\anaconda3\\lib\\site-packages (from captcha) (7.0.0)\n",
      "Installing collected packages: captcha\n",
      "Successfully installed captcha-0.3\n"
     ]
    }
   ],
   "source": [
    "# !pip install captcha"
   ]
  },
  {
   "cell_type": "code",
   "execution_count": 1,
   "metadata": {},
   "outputs": [],
   "source": [
    "from captcha.image import ImageCaptcha\n",
    "import numpy as np\n",
    "import matplotlib.pyplot as plt\n",
    "from PIL import Image\n",
    "import random\n",
    "import os, glob\n",
    "import cv2"
   ]
  },
  {
   "cell_type": "code",
   "execution_count": 2,
   "metadata": {},
   "outputs": [],
   "source": [
    "# img = Image.open('data/226md.png')\n",
    "# w, h = img.size[0], img.size[1]\n",
    "\n",
    "word = ['0','1','2','3','4','5','6','7','8','9',\n",
    "       'a','b','c','d','e','f','g','h','i','j','k',\n",
    "       'l','m','n','o','p','q','r','s','t','u','v',\n",
    "       'w','x','y','z']\n",
    "length = 6\n",
    "\n",
    "np.random.seed(2020)"
   ]
  },
  {
   "cell_type": "code",
   "execution_count": 3,
   "metadata": {},
   "outputs": [],
   "source": [
    "# capthcha data 생성, 저장 함수\n",
    "\n",
    "def generate_captcha(word, length):\n",
    "    captcha_text = []\n",
    "    \n",
    "    for i in range(length):\n",
    "        c = random.choice(word)\n",
    "        captcha_text.append(c)\n",
    "    captcha_text = ''.join(captcha_text)\n",
    "    \n",
    "    image = ImageCaptcha(width = 200, height = 50, font_sizes=[35])\n",
    "#     captcha = image.generate(captcha_text)\n",
    "    image.write(captcha_text, 'six_data/'+captcha_text+'.png')\n",
    "    \n",
    "    \n",
    "# image = ImageCaptcha(width = w, height = h, font_sizes=[30])"
   ]
  },
  {
   "cell_type": "code",
   "execution_count": 4,
   "metadata": {},
   "outputs": [],
   "source": [
    "# 데이터 생성 (10000개)\n",
    "for i in range(10000):\n",
    "    generate_captcha(word, length)"
   ]
  },
  {
   "cell_type": "code",
   "execution_count": null,
   "metadata": {},
   "outputs": [],
   "source": []
  }
 ],
 "metadata": {
  "kernelspec": {
   "display_name": "Python 3",
   "language": "python",
   "name": "python3"
  },
  "language_info": {
   "codemirror_mode": {
    "name": "ipython",
    "version": 3
   },
   "file_extension": ".py",
   "mimetype": "text/x-python",
   "name": "python",
   "nbconvert_exporter": "python",
   "pygments_lexer": "ipython3",
   "version": "3.7.6"
  }
 },
 "nbformat": 4,
 "nbformat_minor": 4
}
