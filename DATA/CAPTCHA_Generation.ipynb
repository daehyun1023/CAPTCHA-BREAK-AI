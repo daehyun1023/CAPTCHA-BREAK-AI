{
 "cells": [
  {
   "cell_type": "code",
   "execution_count": 1,
   "metadata": {},
   "outputs": [
    {
     "name": "stdout",
     "output_type": "stream",
     "text": [
      "Collecting captcha\n",
      "  Downloading captcha-0.3-py3-none-any.whl (101 kB)\n",
      "Requirement already satisfied: Pillow in c:\\users\\duadp\\anaconda3\\lib\\site-packages (from captcha) (7.0.0)\n",
      "Installing collected packages: captcha\n",
      "Successfully installed captcha-0.3\n"
     ]
    }
   ],
   "source": [
    "# !pip install captcha"
   ]
  },
  {
   "cell_type": "code",
   "execution_count": 7,
   "metadata": {},
   "outputs": [],
   "source": [
    "from captcha.image import ImageCaptcha\n",
    "import numpy as np\n",
    "import matplotlib.pyplot as plt\n",
    "from PIL import Image\n",
    "import random\n",
    "import os, glob\n",
    "import cv2"
   ]
  },
  {
   "cell_type": "code",
   "execution_count": 8,
   "metadata": {},
   "outputs": [],
   "source": [
    "word = ['0','1','2','3','4','5','6','7','8','9',\n",
    "       'a','b','c','d','e','f','g','h','i','j','k',\n",
    "       'l','m','n','o','p','q','r','s','t','u','v',\n",
    "       'w','x','y','z']\n",
    "length = 6\n",
    "\n",
    "# save_path = 'C:/Users/duadp/CAPTCHA/captcha/'\n",
    "save_path = 'C:/Users/duadp/CAPTCHA/testcaptcha/'\n",
    "\n",
    "np.random.seed(3711)"
   ]
  },
  {
   "cell_type": "code",
   "execution_count": 9,
   "metadata": {},
   "outputs": [],
   "source": [
    "# capthcha data 생성, 저장 함수\n",
    "\n",
    "def generate_captcha(word, length, save_path):\n",
    "    captcha_text = []\n",
    "    \n",
    "    for i in range(length):\n",
    "        c = random.choice(word)\n",
    "        captcha_text.append(c)\n",
    "    captcha_text = ''.join(captcha_text)\n",
    "    \n",
    "    image = ImageCaptcha(width = 150, height = 50,\n",
    "                         fonts= [\"C:/Windows/Fonts/verdanaz.ttf\",\n",
    "                                 \"C:/Windows/Fonts/arialbd.ttf\",\n",
    "                                 \"C:/Windows/Fonts/tahomabd.ttf\",\n",
    "                                 \"C:/Windows/Fonts/framd.ttf\",\n",
    "                                \"C:/Windows/Fonts/ebrima.ttf\"],\n",
    "                         font_sizes=[40])\n",
    "#     captcha = image.generate(captcha_text)\n",
    "    image.write(captcha_text, save_path +captcha_text+'.png')\n",
    "    \n",
    "    \n",
    "# image = ImageCaptcha(width = w, height = h, font_sizes=[30])"
   ]
  },
  {
   "cell_type": "code",
   "execution_count": 10,
   "metadata": {},
   "outputs": [],
   "source": [
    "# 데이터 생성 (10000개)\n",
    "# os.mkdir(save_path)\n",
    "\n",
    "# for i in range(10000):\n",
    "#     generate_captcha(word, length, save_path)\n",
    "    \n",
    "    \n",
    "# test 데이터 생성 2000개\n",
    "os.mkdir(save_path)\n",
    "for i in range(2000):\n",
    "    generate_captcha(word, length, save_path)"
   ]
  },
  {
   "cell_type": "markdown",
   "metadata": {},
   "source": [
    "### 데이터 확인"
   ]
  },
  {
   "cell_type": "code",
   "execution_count": 5,
   "metadata": {},
   "outputs": [],
   "source": [
    "os.chdir(save_path)\n",
    "data = glob.glob(\"*.png\")"
   ]
  },
  {
   "cell_type": "code",
   "execution_count": 6,
   "metadata": {},
   "outputs": [
    {
     "data": {
      "image/png": "[encoded data removed]",
      "text/plain": [
       "<Figure size 432x288 with 6 Axes>"
      ]
     },
     "metadata": {},
     "output_type": "display_data"
    }
   ],
   "source": [
    "def draw_img(img_lst, row, col):\n",
    "    img = []\n",
    "    img_name = []\n",
    "    for i in range(row*col):\n",
    "        random_img = random.choice(img_lst)\n",
    "        img.append(cv2.imread(random_img))\n",
    "        img_name.append(random_img[:-4])\n",
    "        \n",
    "        \n",
    "        plt.subplot(int(str(row)+str(col)+\"1\")+i)\n",
    "        plt.imshow(img[i])\n",
    "        plt.title(img_name[i])\n",
    "\n",
    "        plt.gca().xaxis.set_major_locator(plt.NullLocator())\n",
    "        plt.gca().yaxis.set_major_locator(plt.NullLocator())\n",
    "        \n",
    "    plt.show()\n",
    "    \n",
    "    \n",
    "draw_img(data, 2,3)"
   ]
  },
  {
   "cell_type": "code",
   "execution_count": null,
   "metadata": {},
   "outputs": [],
   "source": []
  }
 ],
 "metadata": {
  "kernelspec": {
   "display_name": "Python 3",
   "language": "python",
   "name": "python3"
  },
  "language_info": {
   "codemirror_mode": {
    "name": "ipython",
    "version": 3
   },
   "file_extension": ".py",
   "mimetype": "text/x-python",
   "name": "python",
   "nbconvert_exporter": "python",
   "pygments_lexer": "ipython3",
   "version": "3.7.6"
  }
 },
 "nbformat": 4,
 "nbformat_minor": 4
}
