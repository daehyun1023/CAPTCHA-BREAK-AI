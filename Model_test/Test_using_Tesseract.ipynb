{
 "cells": [
  {
   "cell_type": "markdown",
   "metadata": {},
   "source": [
    "### 기본 설정"
   ]
  },
  {
   "cell_type": "code",
   "execution_count": 1,
   "metadata": {},
   "outputs": [],
   "source": [
    "import pytesseract\n",
    "import os, re\n",
    "from time import time\n",
    "import numpy as np\n",
    "import pandas as pd\n",
    "import matplotlib as mpl\n",
    "import matplotlib.pyplot as plt\n",
    "import cv2\n",
    "import tempfile\n",
    "from PIL import Image\n",
    "import random"
   ]
  },
  {
   "cell_type": "code",
   "execution_count": 2,
   "metadata": {},
   "outputs": [],
   "source": [
    "# pytesseract 환경변수 설정\n",
    "pytesseract.pytesseract.tesseract_cmd = r'C:\\Program Files (x86)\\Tesseract-OCR\\tesseract'\n",
    "\n",
    "# tesseract-trained-data 인식\n",
    "lang_trained_data = 'eng'\n"
   ]
  },
  {
   "cell_type": "markdown",
   "metadata": {},
   "source": [
    "### Tesseract 적용\n",
    "1) Before preprocessing  \n",
    "2) After preprocessing"
   ]
  },
  {
   "cell_type": "code",
   "execution_count": 3,
   "metadata": {},
   "outputs": [],
   "source": [
    "# 기존 테서렉트로부터 OCR\n",
    "def ImgToText(image,trained_data):\n",
    "    start_training_time=time()\n",
    "    result=pytesseract.image_to_string(image,config='--psm 6 oem 3 -c tessdit_char_whitelist=0123456789abcdefghijklmnopqrstuvwxyz',\n",
    "                                       lang=trained_data)\n",
    "    end_training_time=time()\n",
    "    convert_time = end_training_time-start_training_time\n",
    "    return result, convert_time"
   ]
  },
  {
   "cell_type": "markdown",
   "metadata": {},
   "source": [
    "## Before Preprocessing 평가"
   ]
  },
  {
   "cell_type": "code",
   "execution_count": 29,
   "metadata": {},
   "outputs": [],
   "source": [
    "# 이미지 불러오기\n",
    "image_dir = 'C:/Users/duadp/CAPTCHA/captcha/'\n",
    "os.chdir(image_dir)\n",
    "\n",
    "image_list = os.listdir(image_dir)"
   ]
  },
  {
   "cell_type": "code",
   "execution_count": 31,
   "metadata": {},
   "outputs": [
    {
     "data": {
      "text/plain": [
       "<matplotlib.image.AxesImage at 0x12c59ce9e08>"
      ]
     },
     "execution_count": 31,
     "metadata": {},
     "output_type": "execute_result"
    },
    {
     "data": {
      "image/png": "[encoded data removed]",
      "text/plain": [
       "<Figure size 432x288 with 1 Axes>"
      ]
     },
     "metadata": {
      "needs_background": "light"
     },
     "output_type": "display_data"
    }
   ],
   "source": [
    "ex = cv2.imread(image_list[11])\n",
    "ex = cv2.cvtColor(ex, cv2.COLOR_BGR2RGB)\n",
    "plt.imshow(ex)"
   ]
  },
  {
   "cell_type": "code",
   "execution_count": 32,
   "metadata": {},
   "outputs": [],
   "source": [
    "# True_label 저장\n",
    "True_label = []\n",
    "for i in range(len(image_list)):\n",
    "    True_label.append(image_list[i][:-4])\n",
    "#     True_label.append(list(\"\".join(image_list[i][:-4])))"
   ]
  },
  {
   "cell_type": "code",
   "execution_count": 33,
   "metadata": {},
   "outputs": [],
   "source": [
    "# image to text tesseract 적용\n",
    "result = []\n",
    "result_time = 0\n",
    "for i in image_list:\n",
    "    txt, t = ImgToText(i, lang_trained_data)\n",
    "    result.append(txt)\n",
    "    result_time+=t"
   ]
  },
  {
   "cell_type": "code",
   "execution_count": 34,
   "metadata": {},
   "outputs": [
    {
     "name": "stdout",
     "output_type": "stream",
     "text": [
      "Image to Text, Converted Time :  4144.650492191315\n"
     ]
    }
   ],
   "source": [
    "print(\"Image to Text, Converted Time : \", result_time)"
   ]
  },
  {
   "cell_type": "markdown",
   "metadata": {},
   "source": [
    "### 평가"
   ]
  },
  {
   "cell_type": "code",
   "execution_count": 76,
   "metadata": {},
   "outputs": [],
   "source": [
    "# 평가\n",
    "# 0~9, a~z의 결과만 나오도록 함\n",
    "def tess_Accuracy(True_label, Pred_label):\n",
    "    size = len(True_label)\n",
    "    new_Pred_label=[]\n",
    "    for result in Pred_label:\n",
    "        new = re.sub('[^0-9a-z]','',result)\n",
    "        new_Pred_label.append(new)\n",
    "    \n",
    "    cnt = 0\n",
    "    for i in range(size):\n",
    "        if True_label[i]==new_Pred_label[i]:\n",
    "            cnt=cnt+1\n",
    "            \n",
    "    # 정확도 계산\n",
    "    acc = cnt/size\n",
    "    return new_Pred_label ,cnt, acc"
   ]
  },
  {
   "cell_type": "code",
   "execution_count": 48,
   "metadata": {},
   "outputs": [
    {
     "name": "stdout",
     "output_type": "stream",
     "text": [
      "Number of words :  10000\n",
      "Correct words of Tesseract-OCR :  0\n",
      "Accuracy of Tesseract-OCR :  0.0\n"
     ]
    }
   ],
   "source": [
    "new_result, count, acc = tess_Accuracy(True_label, result)\n",
    "print(\"Number of words : \", len(True_label))\n",
    "print(\"Correct words of Tesseract-OCR : \", count)\n",
    "print(\"Accuracy of Tesseract-OCR : \", acc)"
   ]
  },
  {
   "cell_type": "markdown",
   "metadata": {},
   "source": [
    "## After Preprocessing 평가"
   ]
  },
  {
   "cell_type": "code",
   "execution_count": 49,
   "metadata": {},
   "outputs": [],
   "source": [
    "# 이미지 불러오기\n",
    "image_dir = 'C:/Users/duadp/CAPTCHA/newcaptcha/'\n",
    "os.chdir(image_dir)\n",
    "\n",
    "image_list = os.listdir(image_dir)"
   ]
  },
  {
   "cell_type": "code",
   "execution_count": 50,
   "metadata": {},
   "outputs": [
    {
     "data": {
      "text/plain": [
       "<matplotlib.image.AxesImage at 0x12c5d2ce448>"
      ]
     },
     "execution_count": 50,
     "metadata": {},
     "output_type": "execute_result"
    },
    {
     "data": {
      "image/png": "[encoded data removed]",
      "text/plain": [
       "<Figure size 432x288 with 1 Axes>"
      ]
     },
     "metadata": {
      "needs_background": "light"
     },
     "output_type": "display_data"
    }
   ],
   "source": [
    "ex = cv2.imread(image_list[11])\n",
    "ex = cv2.cvtColor(ex, cv2.COLOR_BGR2RGB)\n",
    "plt.imshow(ex)"
   ]
  },
  {
   "cell_type": "code",
   "execution_count": 51,
   "metadata": {},
   "outputs": [],
   "source": [
    "# True_label 저장\n",
    "True_label = []\n",
    "for i in range(len(image_list)):\n",
    "    True_label.append(image_list[i][:-4])\n",
    "#     True_label.append(list(\"\".join(image_list[i][:-4])))"
   ]
  },
  {
   "cell_type": "code",
   "execution_count": 52,
   "metadata": {},
   "outputs": [],
   "source": [
    "# image to text tesseract 적용\n",
    "result = []\n",
    "result_time = 0\n",
    "for i in image_list:\n",
    "    txt, t = ImgToText(i, lang_trained_data)\n",
    "    result.append(txt)\n",
    "    result_time+=t"
   ]
  },
  {
   "cell_type": "code",
   "execution_count": 53,
   "metadata": {},
   "outputs": [
    {
     "name": "stdout",
     "output_type": "stream",
     "text": [
      "Image to Text, Converted Time :  4325.197547912598\n"
     ]
    }
   ],
   "source": [
    "print(\"Image to Text, Converted Time : \", result_time)"
   ]
  },
  {
   "cell_type": "code",
   "execution_count": 77,
   "metadata": {},
   "outputs": [
    {
     "name": "stdout",
     "output_type": "stream",
     "text": [
      "Number of words :  10000\n",
      "Correct words of Tesseract-OCR :  12\n",
      "Accuracy of Tesseract-OCR :  0.0012\n"
     ]
    }
   ],
   "source": [
    "# 평가\n",
    "new_result,count, acc = tess_Accuracy(True_label, result)\n",
    "print(\"Number of words : \", len(True_label))\n",
    "print(\"Correct words of Tesseract-OCR : \", count)\n",
    "print(\"Accuracy of Tesseract-OCR : \", acc)"
   ]
  },
  {
   "cell_type": "markdown",
   "metadata": {},
   "source": [
    "### Tesseract가 맞춘 데이터 이미지"
   ]
  },
  {
   "cell_type": "code",
   "execution_count": 78,
   "metadata": {},
   "outputs": [],
   "source": [
    "correct_list=[]\n",
    "for i in range(len(True_label)):\n",
    "    if True_label[i]==new_result[i]:\n",
    "        correct_list.append(True_label[i]+\".png\")"
   ]
  },
  {
   "cell_type": "code",
   "execution_count": 82,
   "metadata": {},
   "outputs": [
    {
     "data": {
      "image/png": "[encoded data removed]",
      "text/plain": [
       "<Figure size 432x288 with 6 Axes>"
      ]
     },
     "metadata": {},
     "output_type": "display_data"
    }
   ],
   "source": [
    "def draw_img(img_lst, row, col):\n",
    "    img = []\n",
    "    img_name = []\n",
    "    for i in range(row*col):\n",
    "        random_img = random.choice(img_lst)\n",
    "        img.append(cv2.imread(random_img))\n",
    "        img_name.append(random_img[:-4])\n",
    "        \n",
    "        \n",
    "        plt.subplot(int(str(row)+str(col)+\"1\")+i)\n",
    "        plt.imshow(img[i])\n",
    "        plt.title(img_name[i])\n",
    "\n",
    "        plt.gca().xaxis.set_major_locator(plt.NullLocator())\n",
    "        plt.gca().yaxis.set_major_locator(plt.NullLocator())\n",
    "        \n",
    "    plt.show()\n",
    "    \n",
    "    \n",
    "draw_img(correct_list, 2,3)"
   ]
  },
  {
   "cell_type": "code",
   "execution_count": null,
   "metadata": {},
   "outputs": [],
   "source": []
  }
 ],
 "metadata": {
  "kernelspec": {
   "display_name": "Python 3",
   "language": "python",
   "name": "python3"
  },
  "language_info": {
   "codemirror_mode": {
    "name": "ipython",
    "version": 3
   },
   "file_extension": ".py",
   "mimetype": "text/x-python",
   "name": "python",
   "nbconvert_exporter": "python",
   "pygments_lexer": "ipython3",
   "version": "3.7.6"
  }
 },
 "nbformat": 4,
 "nbformat_minor": 4
}
